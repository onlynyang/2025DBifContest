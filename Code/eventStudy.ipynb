{
 "cells": [
  {
   "cell_type": "markdown",
   "metadata": {},
   "source": [
    "이벤트 날짜 설정"
   ]
  },
  {
   "cell_type": "code",
   "execution_count": 13,
   "metadata": {},
   "outputs": [],
   "source": [
    "event_dates = ['2017-01-25', # 트럼프 행정부가 EPA(환경보호청) 직원들에게 언론 보도, 블로그 업데이트, 소셜 미디어 게시를 금지\n",
    "               '2017-02-14', # 트럼프가 오바마 행정부 시절의 화석연료 산업 관련 금융 규제를 폐지하는 법안에 서명\n",
    "               '2017-02-28', # 트럼프가 오바마 행정부의 'Clean Water Rule'을 폐지하는 행정명령에 서명\n",
    "               '2017-03-28', # 트럼프가 오바마 행정부의 기후 정책들을 무효화하는 행정명령에 서명\n",
    "               '2017-04-28', # 트럼프가 해상 석유 및 가스 시추를 확대하는 행정명령에 서명\n",
    "               '2017-06-01', # 트럼프가 파리기후협정 탈퇴를 공식 발표\n",
    "               '2017-10-13', # 트럼프가 캐슬린 하트넷-화이트(기후변화에 대해 회의적인 입장을 가진 인물)를 백악관 환경품질위원회 의장으로 지명\n",
    "               '2018-06-19', # 트럼프 대통령은 '미국의 경제, 안보, 환경 이익을 증진하기 위한 해양 정책'에 관한 행정명령 13840에 서명\n",
    "               '2018-08-21', # 트럼프 행정부의 환경보호청(EPA)이 오바마 행정부의 'Clean Power Plan'을 폐기하고 이를 대체하는 'Affordable Clean Energy Rule' 제안서를 발표\n",
    "               '2019-04-12', # 트럼프가 주주들의 기후변화 관련 요구를 제한하는 행정명령에 서명\n",
    "               '2019-06-20', # 트럼프 행정부의 환경보호청(EPA)이 오바마 행정부의 주요 기후변화 정책인 'Clean Power Plan'을 폐지하고 이를 대체하는 'Affordable Clean Energy' 규칙을 최종 확정\n",
    "               '2019-11-04', # 트럼프가 유엔에 파리기후협정 탈퇴 의사를 공식 통보\n",
    "               '2020-06-05', # 트럼프 대통령은 대서양 유일의 해양 국립기념물인 Northeast Canyons and Seamounts Marine National Monument의 보호 조치를 철회하는 선언에 서명\n",
    "               '2020-11-01'] # 트럼프 대통령은 수압파쇄법(석유와 천연가스를 추출하는 특수한 시추 기술) 보호를 위한 행정명령에 서명"
   ]
  },
  {
   "cell_type": "markdown",
   "metadata": {},
   "source": [
    "ETF 데이터 다운"
   ]
  },
  {
   "cell_type": "code",
   "execution_count": null,
   "metadata": {},
   "outputs": [
    {
     "name": "stderr",
     "output_type": "stream",
     "text": [
      "[*********************100%***********************]  1 of 1 completed\n",
      "[*********************100%***********************]  1 of 1 completed\n",
      "[*********************100%***********************]  1 of 1 completed\n",
      "[*********************100%***********************]  1 of 1 completed\n",
      "[*********************100%***********************]  1 of 1 completed\n",
      "[*********************100%***********************]  1 of 1 completed\n"
     ]
    }
   ],
   "source": [
    "import numpy as np\n",
    "import pandas as pd\n",
    "import yfinance as yf\n",
    "\n",
    "# ESG ETF 데이터 불러오기\n",
    "esgu_etf = yf.download('ESGU', start='2016-01-01', end='2025-02-01')\n",
    "erth_etf = yf.download('ERTH', start='2016-01-01', end='2025-02-01')\n",
    "vde_etf = yf.download('VDE', start='2016-01-01', end='2025-02-01')\n",
    "nulg_etf = yf.download('NULG', start='2016-01-01', end='2025-02-01')\n",
    "tan_etf = yf.download('TAN', start='2016-01-01', end='2025-02-01')\n",
    "susa_etf = yf.download('SUSA', start='2016-01-01', end='2025-02-01')"
   ]
  },
  {
   "cell_type": "markdown",
   "metadata": {},
   "source": [
    "csv 파일로 저장"
   ]
  },
  {
   "cell_type": "code",
   "execution_count": 15,
   "metadata": {},
   "outputs": [],
   "source": [
    "esgu_etf.to_csv('ESGU.csv', encoding='cp949')\n",
    "erth_etf.to_csv('ERTH.csv', encoding='cp949')\n",
    "vde_etf.to_csv('VDE.csv', encoding='cp949')\n",
    "nulg_etf.to_csv('NULG.csv', encoding='cp949')\n",
    "tan_etf.to_csv('TAN.csv', encoding='cp949')\n",
    "susa_etf.to_csv('SUSA.csv', encoding='cp949')"
   ]
  },
  {
   "cell_type": "markdown",
   "metadata": {},
   "source": [
    "S&P 500 데이터 다운"
   ]
  },
  {
   "cell_type": "code",
   "execution_count": 34,
   "metadata": {},
   "outputs": [
    {
     "name": "stderr",
     "output_type": "stream",
     "text": [
      "[*********************100%***********************]  1 of 1 completed\n"
     ]
    }
   ],
   "source": [
    "gspc_etf = yf.download('^GSPC', start='2016-01-01', end='2025-02-01')"
   ]
  },
  {
   "cell_type": "markdown",
   "metadata": {},
   "source": [
    "csv 파일로 저장"
   ]
  },
  {
   "cell_type": "code",
   "execution_count": 35,
   "metadata": {},
   "outputs": [],
   "source": [
    "gspc_etf.to_csv('^GSPC.csv', encoding='cp949')"
   ]
  },
  {
   "cell_type": "markdown",
   "metadata": {},
   "source": [
    "데이터 전처리"
   ]
  },
  {
   "cell_type": "code",
   "execution_count": 36,
   "metadata": {},
   "outputs": [
    {
     "name": "stderr",
     "output_type": "stream",
     "text": [
      "C:\\Users\\chica\\AppData\\Local\\Temp\\ipykernel_23572\\153757430.py:15: UserWarning: Could not infer format, so each element will be parsed individually, falling back to `dateutil`. To ensure parsing is consistent and as-expected, please specify a format.\n",
      "  df = pd.read_csv(path, index_col=0, parse_dates=True)\n",
      "C:\\Users\\chica\\AppData\\Local\\Temp\\ipykernel_23572\\153757430.py:15: UserWarning: Could not infer format, so each element will be parsed individually, falling back to `dateutil`. To ensure parsing is consistent and as-expected, please specify a format.\n",
      "  df = pd.read_csv(path, index_col=0, parse_dates=True)\n",
      "C:\\Users\\chica\\AppData\\Local\\Temp\\ipykernel_23572\\153757430.py:15: UserWarning: Could not infer format, so each element will be parsed individually, falling back to `dateutil`. To ensure parsing is consistent and as-expected, please specify a format.\n",
      "  df = pd.read_csv(path, index_col=0, parse_dates=True)\n",
      "C:\\Users\\chica\\AppData\\Local\\Temp\\ipykernel_23572\\153757430.py:15: UserWarning: Could not infer format, so each element will be parsed individually, falling back to `dateutil`. To ensure parsing is consistent and as-expected, please specify a format.\n",
      "  df = pd.read_csv(path, index_col=0, parse_dates=True)\n",
      "C:\\Users\\chica\\AppData\\Local\\Temp\\ipykernel_23572\\153757430.py:15: UserWarning: Could not infer format, so each element will be parsed individually, falling back to `dateutil`. To ensure parsing is consistent and as-expected, please specify a format.\n",
      "  df = pd.read_csv(path, index_col=0, parse_dates=True)\n"
     ]
    },
    {
     "data": {
      "text/html": [
       "<div>\n",
       "<style scoped>\n",
       "    .dataframe tbody tr th:only-of-type {\n",
       "        vertical-align: middle;\n",
       "    }\n",
       "\n",
       "    .dataframe tbody tr th {\n",
       "        vertical-align: top;\n",
       "    }\n",
       "\n",
       "    .dataframe thead th {\n",
       "        text-align: right;\n",
       "    }\n",
       "</style>\n",
       "<table border=\"1\" class=\"dataframe\">\n",
       "  <thead>\n",
       "    <tr style=\"text-align: right;\">\n",
       "      <th></th>\n",
       "      <th>S&amp;P500</th>\n",
       "      <th>ERTH</th>\n",
       "      <th>VDE</th>\n",
       "      <th>TAN</th>\n",
       "      <th>SUSA</th>\n",
       "    </tr>\n",
       "    <tr>\n",
       "      <th>Price</th>\n",
       "      <th></th>\n",
       "      <th></th>\n",
       "      <th></th>\n",
       "      <th></th>\n",
       "      <th></th>\n",
       "    </tr>\n",
       "  </thead>\n",
       "  <tbody>\n",
       "    <tr>\n",
       "      <th>Ticker</th>\n",
       "      <td>^GSPC</td>\n",
       "      <td>ERTH</td>\n",
       "      <td>VDE</td>\n",
       "      <td>TAN</td>\n",
       "      <td>SUSA</td>\n",
       "    </tr>\n",
       "    <tr>\n",
       "      <th>Date</th>\n",
       "      <td>NaN</td>\n",
       "      <td>NaN</td>\n",
       "      <td>NaN</td>\n",
       "      <td>NaN</td>\n",
       "      <td>NaN</td>\n",
       "    </tr>\n",
       "    <tr>\n",
       "      <th>2016-01-04</th>\n",
       "      <td>2012.6600341796875</td>\n",
       "      <td>23.39102554321289</td>\n",
       "      <td>60.45602798461914</td>\n",
       "      <td>28.320396423339844</td>\n",
       "      <td>35.95999526977539</td>\n",
       "    </tr>\n",
       "    <tr>\n",
       "      <th>2016-01-05</th>\n",
       "      <td>2016.7099609375</td>\n",
       "      <td>23.358644485473633</td>\n",
       "      <td>60.67427444458008</td>\n",
       "      <td>27.8878116607666</td>\n",
       "      <td>36.12252426147461</td>\n",
       "    </tr>\n",
       "    <tr>\n",
       "      <th>2016-01-06</th>\n",
       "      <td>1990.260009765625</td>\n",
       "      <td>22.89713478088379</td>\n",
       "      <td>58.31741714477539</td>\n",
       "      <td>27.344783782958984</td>\n",
       "      <td>35.5427360534668</td>\n",
       "    </tr>\n",
       "  </tbody>\n",
       "</table>\n",
       "</div>"
      ],
      "text/plain": [
       "                        S&P500                ERTH                VDE  \\\n",
       "Price                                                                   \n",
       "Ticker                   ^GSPC                ERTH                VDE   \n",
       "Date                       NaN                 NaN                NaN   \n",
       "2016-01-04  2012.6600341796875   23.39102554321289  60.45602798461914   \n",
       "2016-01-05     2016.7099609375  23.358644485473633  60.67427444458008   \n",
       "2016-01-06   1990.260009765625   22.89713478088379  58.31741714477539   \n",
       "\n",
       "                           TAN               SUSA  \n",
       "Price                                              \n",
       "Ticker                     TAN               SUSA  \n",
       "Date                       NaN                NaN  \n",
       "2016-01-04  28.320396423339844  35.95999526977539  \n",
       "2016-01-05    27.8878116607666  36.12252426147461  \n",
       "2016-01-06  27.344783782958984   35.5427360534668  "
      ]
     },
     "execution_count": 36,
     "metadata": {},
     "output_type": "execute_result"
    }
   ],
   "source": [
    "import pandas as pd\n",
    "\n",
    "# 📌 사용할 파일 목록 (2016년 1월부터 데이터가 있는 ETF만)\n",
    "file_paths = {\n",
    "    \"S&P500\": \"^GSPC.csv\",\n",
    "    \"ERTH\": \"ERTH.csv\",\n",
    "    \"VDE\": \"VDE.csv\",\n",
    "    \"TAN\": \"TAN.csv\",\n",
    "    \"SUSA\": \"SUSA.csv\"\n",
    "}\n",
    "\n",
    "# 📌 데이터 불러오기\n",
    "dataframes = {}\n",
    "for etf, path in file_paths.items():\n",
    "    df = pd.read_csv(path, index_col=0, parse_dates=True)\n",
    "    df = df[['Close']]  # 종가만 사용\n",
    "    df.rename(columns={'Close': etf}, inplace=True)\n",
    "    dataframes[etf] = df\n",
    "\n",
    "# 📌 모든 데이터 합치기\n",
    "merged_data = pd.concat(dataframes.values(), axis=1, join=\"inner\")\n",
    "\n",
    "# ✅ 데이터 확인\n",
    "merged_data.head()\n"
   ]
  },
  {
   "cell_type": "code",
   "execution_count": 37,
   "metadata": {},
   "outputs": [
    {
     "name": "stdout",
     "output_type": "stream",
     "text": [
      "\n",
      "📌 변환된 데이터 샘플:\n"
     ]
    },
    {
     "data": {
      "text/html": [
       "<div>\n",
       "<style scoped>\n",
       "    .dataframe tbody tr th:only-of-type {\n",
       "        vertical-align: middle;\n",
       "    }\n",
       "\n",
       "    .dataframe tbody tr th {\n",
       "        vertical-align: top;\n",
       "    }\n",
       "\n",
       "    .dataframe thead th {\n",
       "        text-align: right;\n",
       "    }\n",
       "</style>\n",
       "<table border=\"1\" class=\"dataframe\">\n",
       "  <thead>\n",
       "    <tr style=\"text-align: right;\">\n",
       "      <th></th>\n",
       "      <th>S&amp;P500</th>\n",
       "      <th>ERTH</th>\n",
       "      <th>VDE</th>\n",
       "      <th>TAN</th>\n",
       "      <th>SUSA</th>\n",
       "    </tr>\n",
       "    <tr>\n",
       "      <th>Price</th>\n",
       "      <th></th>\n",
       "      <th></th>\n",
       "      <th></th>\n",
       "      <th></th>\n",
       "      <th></th>\n",
       "    </tr>\n",
       "  </thead>\n",
       "  <tbody>\n",
       "    <tr>\n",
       "      <th>Ticker</th>\n",
       "      <td>NaN</td>\n",
       "      <td>NaN</td>\n",
       "      <td>NaN</td>\n",
       "      <td>NaN</td>\n",
       "      <td>NaN</td>\n",
       "    </tr>\n",
       "    <tr>\n",
       "      <th>Date</th>\n",
       "      <td>NaN</td>\n",
       "      <td>NaN</td>\n",
       "      <td>NaN</td>\n",
       "      <td>NaN</td>\n",
       "      <td>NaN</td>\n",
       "    </tr>\n",
       "    <tr>\n",
       "      <th>2016-01-04</th>\n",
       "      <td>2012.660034</td>\n",
       "      <td>23.391026</td>\n",
       "      <td>60.456028</td>\n",
       "      <td>28.320396</td>\n",
       "      <td>35.959995</td>\n",
       "    </tr>\n",
       "    <tr>\n",
       "      <th>2016-01-05</th>\n",
       "      <td>2016.709961</td>\n",
       "      <td>23.358644</td>\n",
       "      <td>60.674274</td>\n",
       "      <td>27.887812</td>\n",
       "      <td>36.122524</td>\n",
       "    </tr>\n",
       "    <tr>\n",
       "      <th>2016-01-06</th>\n",
       "      <td>1990.260010</td>\n",
       "      <td>22.897135</td>\n",
       "      <td>58.317417</td>\n",
       "      <td>27.344784</td>\n",
       "      <td>35.542736</td>\n",
       "    </tr>\n",
       "  </tbody>\n",
       "</table>\n",
       "</div>"
      ],
      "text/plain": [
       "                 S&P500       ERTH        VDE        TAN       SUSA\n",
       "Price                                                              \n",
       "Ticker              NaN        NaN        NaN        NaN        NaN\n",
       "Date                NaN        NaN        NaN        NaN        NaN\n",
       "2016-01-04  2012.660034  23.391026  60.456028  28.320396  35.959995\n",
       "2016-01-05  2016.709961  23.358644  60.674274  27.887812  36.122524\n",
       "2016-01-06  1990.260010  22.897135  58.317417  27.344784  35.542736"
      ]
     },
     "execution_count": 37,
     "metadata": {},
     "output_type": "execute_result"
    }
   ],
   "source": [
    "# 📌 문자열 데이터를 float로 변환\n",
    "merged_data = merged_data.apply(pd.to_numeric, errors='coerce')\n",
    "\n",
    "# 📌 변환 후 데이터 확인\n",
    "print(\"\\n📌 변환된 데이터 샘플:\")\n",
    "merged_data.head()"
   ]
  },
  {
   "cell_type": "code",
   "execution_count": 38,
   "metadata": {},
   "outputs": [
    {
     "name": "stdout",
     "output_type": "stream",
     "text": [
      "\n",
      "📌 일반수익률 샘플:\n"
     ]
    },
    {
     "data": {
      "text/html": [
       "<div>\n",
       "<style scoped>\n",
       "    .dataframe tbody tr th:only-of-type {\n",
       "        vertical-align: middle;\n",
       "    }\n",
       "\n",
       "    .dataframe tbody tr th {\n",
       "        vertical-align: top;\n",
       "    }\n",
       "\n",
       "    .dataframe thead th {\n",
       "        text-align: right;\n",
       "    }\n",
       "</style>\n",
       "<table border=\"1\" class=\"dataframe\">\n",
       "  <thead>\n",
       "    <tr style=\"text-align: right;\">\n",
       "      <th></th>\n",
       "      <th>S&amp;P500</th>\n",
       "      <th>ERTH</th>\n",
       "      <th>VDE</th>\n",
       "      <th>TAN</th>\n",
       "      <th>SUSA</th>\n",
       "    </tr>\n",
       "    <tr>\n",
       "      <th>Price</th>\n",
       "      <th></th>\n",
       "      <th></th>\n",
       "      <th></th>\n",
       "      <th></th>\n",
       "      <th></th>\n",
       "    </tr>\n",
       "  </thead>\n",
       "  <tbody>\n",
       "    <tr>\n",
       "      <th>2016-01-05</th>\n",
       "      <td>0.002012</td>\n",
       "      <td>-0.001384</td>\n",
       "      <td>0.003610</td>\n",
       "      <td>-0.015275</td>\n",
       "      <td>0.004520</td>\n",
       "    </tr>\n",
       "    <tr>\n",
       "      <th>2016-01-06</th>\n",
       "      <td>-0.013115</td>\n",
       "      <td>-0.019758</td>\n",
       "      <td>-0.038844</td>\n",
       "      <td>-0.019472</td>\n",
       "      <td>-0.016051</td>\n",
       "    </tr>\n",
       "    <tr>\n",
       "      <th>2016-01-07</th>\n",
       "      <td>-0.023700</td>\n",
       "      <td>-0.030057</td>\n",
       "      <td>-0.024947</td>\n",
       "      <td>-0.091552</td>\n",
       "      <td>-0.018166</td>\n",
       "    </tr>\n",
       "    <tr>\n",
       "      <th>2016-01-08</th>\n",
       "      <td>-0.010838</td>\n",
       "      <td>-0.007656</td>\n",
       "      <td>-0.012665</td>\n",
       "      <td>0.011486</td>\n",
       "      <td>-0.013215</td>\n",
       "    </tr>\n",
       "    <tr>\n",
       "      <th>2016-01-11</th>\n",
       "      <td>0.000853</td>\n",
       "      <td>-0.013960</td>\n",
       "      <td>-0.022674</td>\n",
       "      <td>-0.035897</td>\n",
       "      <td>-0.001913</td>\n",
       "    </tr>\n",
       "  </tbody>\n",
       "</table>\n",
       "</div>"
      ],
      "text/plain": [
       "              S&P500      ERTH       VDE       TAN      SUSA\n",
       "Price                                                       \n",
       "2016-01-05  0.002012 -0.001384  0.003610 -0.015275  0.004520\n",
       "2016-01-06 -0.013115 -0.019758 -0.038844 -0.019472 -0.016051\n",
       "2016-01-07 -0.023700 -0.030057 -0.024947 -0.091552 -0.018166\n",
       "2016-01-08 -0.010838 -0.007656 -0.012665  0.011486 -0.013215\n",
       "2016-01-11  0.000853 -0.013960 -0.022674 -0.035897 -0.001913"
      ]
     },
     "execution_count": 38,
     "metadata": {},
     "output_type": "execute_result"
    }
   ],
   "source": [
    "# 📌 일반수익률(Arithmetic Return) 계산\n",
    "simple_returns = merged_data.pct_change().dropna()\n",
    "\n",
    "# ✅ 수익률 데이터 확인\n",
    "print(\"\\n📌 일반수익률 샘플:\")\n",
    "simple_returns.head()"
   ]
  },
  {
   "cell_type": "code",
   "execution_count": 39,
   "metadata": {},
   "outputs": [
    {
     "name": "stdout",
     "output_type": "stream",
     "text": [
      "\n",
      "📌 ETF별 α(알파), β(베타) 값:\n",
      "ERTH: α = 0.000098, β = 1.137832\n",
      "VDE: α = 0.000511, β = 1.401331\n",
      "TAN: α = -0.002699, β = 1.458828\n",
      "SUSA: α = 0.000109, β = 0.970847\n"
     ]
    }
   ],
   "source": [
    "import statsmodels.api as sm\n",
    "\n",
    "# 📌 추정 윈도우 설정\n",
    "estimation_start = \"2016-01-06\"\n",
    "estimation_end = \"2016-12-30\"\n",
    "\n",
    "# 📌 벤치마크(S&P500) 수익률\n",
    "market_returns = simple_returns[\"S&P500\"]\n",
    "\n",
    "# 📌 ETF별 α(알파), β(베타) 추정\n",
    "alpha_beta = {}\n",
    "\n",
    "for etf in simple_returns.columns:\n",
    "    if etf == \"S&P500\":\n",
    "        continue  # 벤치마크는 제외\n",
    "\n",
    "    etf_returns = simple_returns[etf]\n",
    "\n",
    "    # 📌 추정 기간의 데이터 선택\n",
    "    estimation_index = (market_returns.index >= estimation_start) & (market_returns.index <= estimation_end)\n",
    "    X = market_returns.loc[estimation_index]\n",
    "    Y = etf_returns.loc[estimation_index]\n",
    "\n",
    "    # 📌 OLS 회귀 분석\n",
    "    X = sm.add_constant(X)  # 상수항 추가 (α 추정)\n",
    "    model = sm.OLS(Y, X).fit()\n",
    "\n",
    "    # 결과 저장\n",
    "    alpha, beta = model.params\n",
    "    alpha_beta[etf] = {\"alpha\": alpha, \"beta\": beta}\n",
    "\n",
    "# ✅ α, β 값 확인\n",
    "print(\"\\n📌 ETF별 α(알파), β(베타) 값:\")\n",
    "for etf, params in alpha_beta.items():\n",
    "    print(f\"{etf}: α = {params['alpha']:.6f}, β = {params['beta']:.6f}\")\n"
   ]
  },
  {
   "cell_type": "code",
   "execution_count": 42,
   "metadata": {},
   "outputs": [
    {
     "name": "stdout",
     "output_type": "stream",
     "text": [
      "⚠️ 2017-01-25 00:00:00에 대한 데이터가 없습니다. 가장 가까운 영업일 데이터 사용.\n"
     ]
    },
    {
     "ename": "TypeError",
     "evalue": "'<' not supported between instances of 'str' and 'Timestamp'",
     "output_type": "error",
     "traceback": [
      "\u001b[1;31m---------------------------------------------------------------------------\u001b[0m",
      "\u001b[1;31mTypeError\u001b[0m                                 Traceback (most recent call last)",
      "Cell \u001b[1;32mIn[42], line 17\u001b[0m\n\u001b[0;32m     15\u001b[0m \u001b[38;5;28;01mif\u001b[39;00m event_day \u001b[38;5;129;01mnot\u001b[39;00m \u001b[38;5;129;01min\u001b[39;00m simple_returns\u001b[38;5;241m.\u001b[39mindex:\n\u001b[0;32m     16\u001b[0m     \u001b[38;5;28mprint\u001b[39m(\u001b[38;5;124mf\u001b[39m\u001b[38;5;124m\"\u001b[39m\u001b[38;5;124m⚠️ \u001b[39m\u001b[38;5;132;01m{\u001b[39;00mevent_day\u001b[38;5;132;01m}\u001b[39;00m\u001b[38;5;124m에 대한 데이터가 없습니다. 가장 가까운 영업일 데이터 사용.\u001b[39m\u001b[38;5;124m\"\u001b[39m)\n\u001b[1;32m---> 17\u001b[0m     event_day \u001b[38;5;241m=\u001b[39m simple_returns\u001b[38;5;241m.\u001b[39mindex[\u001b[43msimple_returns\u001b[49m\u001b[38;5;241;43m.\u001b[39;49m\u001b[43mindex\u001b[49m\u001b[38;5;241;43m.\u001b[39;49m\u001b[43msearchsorted\u001b[49m\u001b[43m(\u001b[49m\u001b[43mevent_day\u001b[49m\u001b[43m,\u001b[49m\u001b[43m \u001b[49m\u001b[43mside\u001b[49m\u001b[38;5;241;43m=\u001b[39;49m\u001b[38;5;124;43m'\u001b[39;49m\u001b[38;5;124;43mleft\u001b[39;49m\u001b[38;5;124;43m'\u001b[39;49m\u001b[43m)\u001b[49m \u001b[38;5;241m-\u001b[39m \u001b[38;5;241m1\u001b[39m]\n\u001b[0;32m     19\u001b[0m \u001b[38;5;66;03m# 기대수익률 계산\u001b[39;00m\n\u001b[0;32m     20\u001b[0m alpha \u001b[38;5;241m=\u001b[39m alpha_beta[etf][\u001b[38;5;124m\"\u001b[39m\u001b[38;5;124malpha\u001b[39m\u001b[38;5;124m\"\u001b[39m]\n",
      "File \u001b[1;32mc:\\Users\\chica\\AppData\\Local\\Programs\\Python\\Python312\\Lib\\site-packages\\pandas\\core\\base.py:1352\u001b[0m, in \u001b[0;36mIndexOpsMixin.searchsorted\u001b[1;34m(self, value, side, sorter)\u001b[0m\n\u001b[0;32m   1348\u001b[0m \u001b[38;5;28;01mif\u001b[39;00m \u001b[38;5;129;01mnot\u001b[39;00m \u001b[38;5;28misinstance\u001b[39m(values, np\u001b[38;5;241m.\u001b[39mndarray):\n\u001b[0;32m   1349\u001b[0m     \u001b[38;5;66;03m# Going through EA.searchsorted directly improves performance GH#38083\u001b[39;00m\n\u001b[0;32m   1350\u001b[0m     \u001b[38;5;28;01mreturn\u001b[39;00m values\u001b[38;5;241m.\u001b[39msearchsorted(value, side\u001b[38;5;241m=\u001b[39mside, sorter\u001b[38;5;241m=\u001b[39msorter)\n\u001b[1;32m-> 1352\u001b[0m \u001b[38;5;28;01mreturn\u001b[39;00m \u001b[43malgorithms\u001b[49m\u001b[38;5;241;43m.\u001b[39;49m\u001b[43msearchsorted\u001b[49m\u001b[43m(\u001b[49m\n\u001b[0;32m   1353\u001b[0m \u001b[43m    \u001b[49m\u001b[43mvalues\u001b[49m\u001b[43m,\u001b[49m\n\u001b[0;32m   1354\u001b[0m \u001b[43m    \u001b[49m\u001b[43mvalue\u001b[49m\u001b[43m,\u001b[49m\n\u001b[0;32m   1355\u001b[0m \u001b[43m    \u001b[49m\u001b[43mside\u001b[49m\u001b[38;5;241;43m=\u001b[39;49m\u001b[43mside\u001b[49m\u001b[43m,\u001b[49m\n\u001b[0;32m   1356\u001b[0m \u001b[43m    \u001b[49m\u001b[43msorter\u001b[49m\u001b[38;5;241;43m=\u001b[39;49m\u001b[43msorter\u001b[49m\u001b[43m,\u001b[49m\n\u001b[0;32m   1357\u001b[0m \u001b[43m\u001b[49m\u001b[43m)\u001b[49m\n",
      "File \u001b[1;32mc:\\Users\\chica\\AppData\\Local\\Programs\\Python\\Python312\\Lib\\site-packages\\pandas\\core\\algorithms.py:1329\u001b[0m, in \u001b[0;36msearchsorted\u001b[1;34m(arr, value, side, sorter)\u001b[0m\n\u001b[0;32m   1325\u001b[0m     arr \u001b[38;5;241m=\u001b[39m ensure_wrapped_if_datetimelike(arr)\n\u001b[0;32m   1327\u001b[0m \u001b[38;5;66;03m# Argument 1 to \"searchsorted\" of \"ndarray\" has incompatible type\u001b[39;00m\n\u001b[0;32m   1328\u001b[0m \u001b[38;5;66;03m# \"Union[NumpyValueArrayLike, ExtensionArray]\"; expected \"NumpyValueArrayLike\"\u001b[39;00m\n\u001b[1;32m-> 1329\u001b[0m \u001b[38;5;28;01mreturn\u001b[39;00m \u001b[43marr\u001b[49m\u001b[38;5;241;43m.\u001b[39;49m\u001b[43msearchsorted\u001b[49m\u001b[43m(\u001b[49m\u001b[43mvalue\u001b[49m\u001b[43m,\u001b[49m\u001b[43m \u001b[49m\u001b[43mside\u001b[49m\u001b[38;5;241;43m=\u001b[39;49m\u001b[43mside\u001b[49m\u001b[43m,\u001b[49m\u001b[43m \u001b[49m\u001b[43msorter\u001b[49m\u001b[38;5;241;43m=\u001b[39;49m\u001b[43msorter\u001b[49m\u001b[43m)\u001b[49m\n",
      "\u001b[1;31mTypeError\u001b[0m: '<' not supported between instances of 'str' and 'Timestamp'"
     ]
    }
   ],
   "source": [
    "import numpy as np\n",
    "import pandas as pd\n",
    "\n",
    "# 📌 비정상 수익률(AR) 저장용 딕셔너리 초기화\n",
    "abnormal_returns = {}\n",
    "\n",
    "for event in event_dates:\n",
    "    event_day = pd.to_datetime(event)  # 이벤트 날짜 변환\n",
    "    abnormal_returns[event] = {}\n",
    "    \n",
    "    for etf in simple_returns.columns:\n",
    "        if etf == \"S&P500\":\n",
    "            continue  # 벤치마크 제외\n",
    "\n",
    "        if event_day not in simple_returns.index:\n",
    "            print(f\"⚠️ {event_day}에 대한 데이터가 없습니다. 가장 가까운 영업일 데이터 사용.\")\n",
    "            event_day = simple_returns.index[simple_returns.index.searchsorted(event_day, side='left') - 1]\n",
    "\n",
    "        # 기대수익률 계산\n",
    "        alpha = alpha_beta[etf][\"alpha\"]\n",
    "        beta = alpha_beta[etf][\"beta\"]\n",
    "        expected_return = alpha + beta * simple_returns.loc[event_day, \"S&P500\"]\n",
    "\n",
    "        # 비정상 수익률 (AR) 계산\n",
    "        abnormal_return = simple_returns.loc[event_day, etf] - expected_return\n",
    "        abnormal_returns[event][etf] = abnormal_return\n",
    "\n",
    "# ✅ 이벤트별 AR 샘플 확인\n",
    "print(\"\\n📌 이벤트별 비정상 수익률(AR) 샘플:\")\n",
    "for event, etf_data in list(abnormal_returns.items())[:2]:  # 처음 2개 이벤트만 출력\n",
    "    print(f\"📌 이벤트 {event}:\")\n",
    "    for etf, ar in etf_data.items():\n",
    "        print(f\"  - {etf}: {ar:.6f}\")\n"
   ]
  },
  {
   "cell_type": "markdown",
   "metadata": {},
   "source": [
    "----"
   ]
  }
 ],
 "metadata": {
  "kernelspec": {
   "display_name": "Python 3",
   "language": "python",
   "name": "python3"
  },
  "language_info": {
   "codemirror_mode": {
    "name": "ipython",
    "version": 3
   },
   "file_extension": ".py",
   "mimetype": "text/x-python",
   "name": "python",
   "nbconvert_exporter": "python",
   "pygments_lexer": "ipython3",
   "version": "3.12.2"
  }
 },
 "nbformat": 4,
 "nbformat_minor": 2
}
